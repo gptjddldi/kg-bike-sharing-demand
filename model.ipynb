{
 "cells": [
  {
   "cell_type": "code",
   "execution_count": 1,
   "id": "2704a1df-e48f-4f2c-98aa-ccd165531883",
   "metadata": {},
   "outputs": [],
   "source": [
    "import numpy as np\n",
    "import pandas as pd\n",
    "from datetime import datetime\n",
    "import calendar\n",
    "import seaborn as sns\n",
    "import matplotlib.pyplot as plt"
   ]
  },
  {
   "cell_type": "code",
   "execution_count": 2,
   "id": "00eb4a96-e3df-4d37-a3b2-9b9a2e71fa14",
   "metadata": {},
   "outputs": [],
   "source": [
    "train = pd.read_csv(\"data/train.csv\")\n",
    "test = pd.read_csv(\"data/test.csv\")"
   ]
  },
  {
   "cell_type": "code",
   "execution_count": 3,
   "id": "439b9d09-7457-4980-a1e2-24cca5382aee",
   "metadata": {},
   "outputs": [
    {
     "data": {
      "text/plain": [
       "0       1\n",
       "1       1\n",
       "2       1\n",
       "3       1\n",
       "4       1\n",
       "       ..\n",
       "6488    2\n",
       "6489    2\n",
       "6490    1\n",
       "6491    1\n",
       "6492    1\n",
       "Name: weather, Length: 6493, dtype: int64"
      ]
     },
     "execution_count": 3,
     "metadata": {},
     "output_type": "execute_result"
    }
   ],
   "source": [
    "train = train[train['weather'] != 4]\n",
    "test.weather"
   ]
  },
  {
   "cell_type": "code",
   "execution_count": 4,
   "id": "4c5ac507-28b7-4135-a0a9-88804cef49f1",
   "metadata": {},
   "outputs": [],
   "source": [
    "all_data = pd.concat([train, test], ignore_index=True)"
   ]
  },
  {
   "cell_type": "code",
   "execution_count": 5,
   "id": "4b176e59-7b8a-48b6-9450-ab923a52ec60",
   "metadata": {},
   "outputs": [],
   "source": [
    "all_data['tempDate'] = all_data.datetime.apply(lambda x:x.split())\n",
    "\n",
    "all_data['date'] = all_data['tempDate'].apply(lambda x: x[0])     \n",
    "all_data['year'] = all_data['tempDate'].apply(lambda x: x[0].split('-')[0])\n",
    "all_data['month'] = all_data['tempDate'].apply(lambda x: x[0].split('-')[1])\n",
    "all_data['day'] = all_data['tempDate'].apply(lambda x: x[0].split('-')[2])\n",
    "all_data['hour'] = all_data['tempDate'].apply(lambda x: x[1].split(':')[0])\n",
    "all_data['weekday'] = all_data.tempDate.apply(lambda x:calendar.day_name[datetime.strptime(x[0], \"%Y-%m-%d\").weekday()])\n",
    "\n",
    "all_data = all_data.drop('tempDate', axis=1)"
   ]
  },
  {
   "cell_type": "code",
   "execution_count": 6,
   "id": "8ea7f715-fde3-4458-9da4-5262e9696013",
   "metadata": {},
   "outputs": [],
   "source": [
    "all_data = all_data.drop(['datetime', 'season', 'workingday', 'date', 'day'], axis=1)"
   ]
  },
  {
   "cell_type": "code",
   "execution_count": 7,
   "id": "78e238ed-d00c-42c9-8ab5-01ce942686d0",
   "metadata": {},
   "outputs": [],
   "source": [
    "weekday_mapping = {'Monday': 0, 'Tuesday': 1, 'Wednesday': 2, 'Thursday': 3, 'Friday': 4, 'Saturday': 5, 'Sunday': 6}\n",
    "all_data['weekday'] = all_data['weekday'].map(weekday_mapping)"
   ]
  },
  {
   "cell_type": "code",
   "execution_count": 8,
   "id": "e2c27692-b550-4867-b48b-720aef79edc3",
   "metadata": {},
   "outputs": [],
   "source": [
    "new_train = all_data[pd.notnull(all_data['count'])]"
   ]
  },
  {
   "cell_type": "code",
   "execution_count": 9,
   "id": "ad71123d-89b5-40ca-9d86-c348714def7e",
   "metadata": {},
   "outputs": [
    {
     "data": {
      "text/html": [
       "<style>#sk-container-id-1 {color: black;}#sk-container-id-1 pre{padding: 0;}#sk-container-id-1 div.sk-toggleable {background-color: white;}#sk-container-id-1 label.sk-toggleable__label {cursor: pointer;display: block;width: 100%;margin-bottom: 0;padding: 0.3em;box-sizing: border-box;text-align: center;}#sk-container-id-1 label.sk-toggleable__label-arrow:before {content: \"▸\";float: left;margin-right: 0.25em;color: #696969;}#sk-container-id-1 label.sk-toggleable__label-arrow:hover:before {color: black;}#sk-container-id-1 div.sk-estimator:hover label.sk-toggleable__label-arrow:before {color: black;}#sk-container-id-1 div.sk-toggleable__content {max-height: 0;max-width: 0;overflow: hidden;text-align: left;background-color: #f0f8ff;}#sk-container-id-1 div.sk-toggleable__content pre {margin: 0.2em;color: black;border-radius: 0.25em;background-color: #f0f8ff;}#sk-container-id-1 input.sk-toggleable__control:checked~div.sk-toggleable__content {max-height: 200px;max-width: 100%;overflow: auto;}#sk-container-id-1 input.sk-toggleable__control:checked~label.sk-toggleable__label-arrow:before {content: \"▾\";}#sk-container-id-1 div.sk-estimator input.sk-toggleable__control:checked~label.sk-toggleable__label {background-color: #d4ebff;}#sk-container-id-1 div.sk-label input.sk-toggleable__control:checked~label.sk-toggleable__label {background-color: #d4ebff;}#sk-container-id-1 input.sk-hidden--visually {border: 0;clip: rect(1px 1px 1px 1px);clip: rect(1px, 1px, 1px, 1px);height: 1px;margin: -1px;overflow: hidden;padding: 0;position: absolute;width: 1px;}#sk-container-id-1 div.sk-estimator {font-family: monospace;background-color: #f0f8ff;border: 1px dotted black;border-radius: 0.25em;box-sizing: border-box;margin-bottom: 0.5em;}#sk-container-id-1 div.sk-estimator:hover {background-color: #d4ebff;}#sk-container-id-1 div.sk-parallel-item::after {content: \"\";width: 100%;border-bottom: 1px solid gray;flex-grow: 1;}#sk-container-id-1 div.sk-label:hover label.sk-toggleable__label {background-color: #d4ebff;}#sk-container-id-1 div.sk-serial::before {content: \"\";position: absolute;border-left: 1px solid gray;box-sizing: border-box;top: 0;bottom: 0;left: 50%;z-index: 0;}#sk-container-id-1 div.sk-serial {display: flex;flex-direction: column;align-items: center;background-color: white;padding-right: 0.2em;padding-left: 0.2em;position: relative;}#sk-container-id-1 div.sk-item {position: relative;z-index: 1;}#sk-container-id-1 div.sk-parallel {display: flex;align-items: stretch;justify-content: center;background-color: white;position: relative;}#sk-container-id-1 div.sk-item::before, #sk-container-id-1 div.sk-parallel-item::before {content: \"\";position: absolute;border-left: 1px solid gray;box-sizing: border-box;top: 0;bottom: 0;left: 50%;z-index: -1;}#sk-container-id-1 div.sk-parallel-item {display: flex;flex-direction: column;z-index: 1;position: relative;background-color: white;}#sk-container-id-1 div.sk-parallel-item:first-child::after {align-self: flex-end;width: 50%;}#sk-container-id-1 div.sk-parallel-item:last-child::after {align-self: flex-start;width: 50%;}#sk-container-id-1 div.sk-parallel-item:only-child::after {width: 0;}#sk-container-id-1 div.sk-dashed-wrapped {border: 1px dashed gray;margin: 0 0.4em 0.5em 0.4em;box-sizing: border-box;padding-bottom: 0.4em;background-color: white;}#sk-container-id-1 div.sk-label label {font-family: monospace;font-weight: bold;display: inline-block;line-height: 1.2em;}#sk-container-id-1 div.sk-label-container {text-align: center;}#sk-container-id-1 div.sk-container {/* jupyter's `normalize.less` sets `[hidden] { display: none; }` but bootstrap.min.css set `[hidden] { display: none !important; }` so we also need the `!important` here to be able to override the default hidden behavior on the sphinx rendered scikit-learn.org. See: https://github.com/scikit-learn/scikit-learn/issues/21755 */display: inline-block !important;position: relative;}#sk-container-id-1 div.sk-text-repr-fallback {display: none;}</style><div id=\"sk-container-id-1\" class=\"sk-top-container\"><div class=\"sk-text-repr-fallback\"><pre>LinearRegression()</pre><b>In a Jupyter environment, please rerun this cell to show the HTML representation or trust the notebook. <br />On GitHub, the HTML representation is unable to render, please try loading this page with nbviewer.org.</b></div><div class=\"sk-container\" hidden><div class=\"sk-item\"><div class=\"sk-estimator sk-toggleable\"><input class=\"sk-toggleable__control sk-hidden--visually\" id=\"sk-estimator-id-1\" type=\"checkbox\" checked><label for=\"sk-estimator-id-1\" class=\"sk-toggleable__label sk-toggleable__label-arrow\">LinearRegression</label><div class=\"sk-toggleable__content\"><pre>LinearRegression()</pre></div></div></div></div></div>"
      ],
      "text/plain": [
       "LinearRegression()"
      ]
     },
     "execution_count": 9,
     "metadata": {},
     "output_type": "execute_result"
    }
   ],
   "source": [
    "from sklearn.linear_model import LinearRegression\n",
    "\n",
    "lin_reg = LinearRegression()\n",
    "condition = (new_train.atemp < 20) & (new_train.temp > 20) #wrong condition\n",
    "lin_reg.fit(new_train.loc[~condition, [\"temp\"]], new_train.loc[~condition, [\"atemp\"]])"
   ]
  },
  {
   "cell_type": "code",
   "execution_count": 10,
   "id": "ae17d24f-2ef2-43a5-b4a8-43f42119a586",
   "metadata": {},
   "outputs": [],
   "source": [
    "condition = (all_data.atemp < 20) & (all_data.temp > 20)\n",
    "all_data.loc[condition, \"atemp\"] = all_data.loc[condition, \"temp\"] * lin_reg.coef_[0][0] + lin_reg.intercept_[0]\n",
    "\n",
    "sub_train = all_data[pd.notnull(all_data['count'])]"
   ]
  },
  {
   "cell_type": "code",
   "execution_count": 11,
   "id": "918dcb64-cee0-4a94-8acf-7df76569fe6b",
   "metadata": {},
   "outputs": [
    {
     "data": {
      "text/plain": [
       "array([ 7.91058722,  7.94815748,  7.94815748, ...,  9.62801817,\n",
       "       16.37592775, 10.36697335])"
      ]
     },
     "execution_count": 11,
     "metadata": {},
     "output_type": "execute_result"
    }
   ],
   "source": [
    "from sklearn.ensemble import RandomForestRegressor\n",
    "\n",
    "rnd_reg = RandomForestRegressor(n_estimators=100, n_jobs=-1, max_leaf_nodes=100,random_state=42)\n",
    "\n",
    "condition = (sub_train.windspeed != 0)\n",
    "rnd_reg.fit(sub_train.loc[condition,['temp','atemp','humidity']],sub_train.loc[condition,'windspeed'])\n",
    "condition = (all_data.windspeed == 0)\n",
    "rnd_reg.predict(all_data.loc[condition,['temp','atemp','humidity']])"
   ]
  },
  {
   "cell_type": "code",
   "execution_count": 12,
   "id": "ffc6a1e8-0d48-42e1-8425-4051c59c1418",
   "metadata": {},
   "outputs": [],
   "source": [
    "all_data.loc[condition,'windspeed'] = rnd_reg.predict(all_data.loc[condition,['temp','atemp','humidity']])\n",
    "\n",
    "sub_train = all_data[pd.notnull(all_data['count'])]"
   ]
  },
  {
   "cell_type": "code",
   "execution_count": 13,
   "id": "f1c367f3-52d9-40d8-a00f-5734bd202644",
   "metadata": {},
   "outputs": [
    {
     "data": {
      "text/plain": [
       "array([57.17164074, 57.17164074, 57.17164074, 61.75819021, 54.27117952,\n",
       "       60.97156544, 57.03199635, 61.9654168 , 63.86193681, 61.54144809,\n",
       "       64.17201816, 64.17201816, 54.99828091, 67.69687892, 62.52437589,\n",
       "       52.38414703, 53.56453469, 43.60941302, 54.27117952, 61.59370835,\n",
       "       63.35453667, 68.10729513])"
      ]
     },
     "execution_count": 13,
     "metadata": {},
     "output_type": "execute_result"
    }
   ],
   "source": [
    "rnd_reg = RandomForestRegressor(n_estimators=100, n_jobs=-1, max_leaf_nodes=100,random_state=42)\n",
    "condition = (sub_train.humidity != 0)\n",
    "rnd_reg.fit(sub_train.loc[condition,['temp','atemp','windspeed']],sub_train.loc[condition,'humidity'])\n",
    "condition = (all_data.humidity == 0)\n",
    "rnd_reg.predict(all_data.loc[condition,['temp','atemp','windspeed']])"
   ]
  },
  {
   "cell_type": "code",
   "execution_count": 14,
   "id": "0907f930-3438-4a9a-a099-80963b1ff4db",
   "metadata": {},
   "outputs": [
    {
     "name": "stderr",
     "output_type": "stream",
     "text": [
      "C:\\Users\\cch\\AppData\\Local\\Temp\\ipykernel_16532\\2337637888.py:1: FutureWarning: Setting an item of incompatible dtype is deprecated and will raise in a future error of pandas. Value '[57.17164074 57.17164074 57.17164074 61.75819021 54.27117952 60.97156544\n",
      " 57.03199635 61.9654168  63.86193681 61.54144809 64.17201816 64.17201816\n",
      " 54.99828091 67.69687892 62.52437589 52.38414703 53.56453469 43.60941302\n",
      " 54.27117952 61.59370835 63.35453667 68.10729513]' has dtype incompatible with int64, please explicitly cast to a compatible dtype first.\n",
      "  all_data.loc[condition,'humidity'] = rnd_reg.predict(all_data.loc[condition,['temp','atemp','windspeed']])\n"
     ]
    }
   ],
   "source": [
    "all_data.loc[condition,'humidity'] = rnd_reg.predict(all_data.loc[condition,['temp','atemp','windspeed']])"
   ]
  },
  {
   "cell_type": "code",
   "execution_count": 15,
   "id": "43bb0ce8-de39-4b0e-9e3b-4b3250767735",
   "metadata": {},
   "outputs": [],
   "source": [
    "dropFeatures = ['casual', 'count', 'registered']\n",
    "new_train = all_data.drop(dropFeatures, axis=1)\n",
    "new_train = all_data[pd.notnull(all_data['count'])]\n",
    "new_test = all_data[~pd.notnull(all_data['count'])]\n",
    "target = train['count']\n",
    "target1 = train['casual']\n",
    "target2 = train['registered']\n",
    "target = np.log(target+1)\n",
    "target1 = np.log(target1+1)\n",
    "target2 = np.log(target2+1)"
   ]
  },
  {
   "cell_type": "code",
   "execution_count": 16,
   "id": "dc6e590b-a97f-4d10-9761-04db9af27854",
   "metadata": {},
   "outputs": [],
   "source": [
    "from sklearn.compose import ColumnTransformer\n",
    "from sklearn.preprocessing import StandardScaler\n",
    "from sklearn.preprocessing import OneHotEncoder\n",
    "\n",
    "num_attributes = ['temp', 'atemp', 'humidity', 'windspeed']\n",
    "cat_attributes = ['year', 'month','hour','weekday','holiday','weather']\n",
    "#num_attributes = ['temp', 'atemp', 'humidity', 'windspeed','weather','year', 'month','hour','weekday','holiday']\n",
    "#cat_attributes = []\n",
    "full_pipeline = ColumnTransformer([('num', StandardScaler(), num_attributes), ('cat', OneHotEncoder(), cat_attributes)],)\n",
    "#new_train_final = full_pipeline.fit_transform(new_train)\n",
    "#new_test_final = full_pipeline.fit_transform(new_test)\n",
    "all_data_final = full_pipeline.fit_transform(all_data)\n",
    "new_train_final = all_data_final[pd.notnull(all_data['count'])]\n",
    "new_test_final = all_data_final[~pd.notnull(all_data['count'])]"
   ]
  },
  {
   "cell_type": "code",
   "execution_count": 17,
   "id": "5c27bab9-8a8f-4d9d-8f05-350c152b0cfa",
   "metadata": {},
   "outputs": [
    {
     "data": {
      "text/plain": [
       "'from sklearn.model_selection import train_test_split\\n\\nX_train, X_val, y_train, y_val = train_test_split(new_train_final, target, test_size=0.1, random_state=42)'"
      ]
     },
     "execution_count": 17,
     "metadata": {},
     "output_type": "execute_result"
    }
   ],
   "source": [
    "'''from sklearn.model_selection import train_test_split\n",
    "\n",
    "X_train, X_val, y_train, y_val = train_test_split(new_train_final, target, test_size=0.1, random_state=42)'''"
   ]
  },
  {
   "cell_type": "code",
   "execution_count": 18,
   "id": "1d91231b-bfa8-42eb-9476-8f3fdf9dad9b",
   "metadata": {},
   "outputs": [],
   "source": [
    "def rmsle_score(preds, true):\n",
    "    rmsle_score = (np.sum((np.log1p(preds)-np.log1p(true))**2)/len(true))**0.5\n",
    "    return rmsle_score"
   ]
  },
  {
   "cell_type": "code",
   "execution_count": 21,
   "id": "8ff72a92-3e7a-4762-82fb-8ffa13a9c9e3",
   "metadata": {},
   "outputs": [
    {
     "data": {
      "text/plain": [
       "\"param_Rf =  {'min_samples_split' : [3,4,6,10], 'n_estimators' : [100], 'random_state': [42] }\\nRF = GridSearchCV(RandomForestRegressor(), param_Rf, cv=10, scoring = RMSLE, n_jobs=-1)\\nRF.fit(new_train_final, target)\""
      ]
     },
     "execution_count": 21,
     "metadata": {},
     "output_type": "execute_result"
    }
   ],
   "source": [
    "from sklearn.model_selection import GridSearchCV\n",
    "from sklearn.pipeline import make_pipeline\n",
    "from sklearn.metrics import make_scorer\n",
    "RMSLE = make_scorer(rmsle_score)\n",
    "\n",
    "'''param_Rf =  {'min_samples_split' : [3,4,6,10], 'n_estimators' : [100], 'random_state': [42] }\n",
    "RF = GridSearchCV(RandomForestRegressor(), param_Rf, cv=10, scoring = RMSLE, n_jobs=-1)\n",
    "RF.fit(new_train_final, target)'''"
   ]
  },
  {
   "cell_type": "code",
   "execution_count": 22,
   "id": "f4552728-c9a5-4959-849c-63b2a2e62ad0",
   "metadata": {},
   "outputs": [
    {
     "data": {
      "text/html": [
       "<style>#sk-container-id-2 {color: black;}#sk-container-id-2 pre{padding: 0;}#sk-container-id-2 div.sk-toggleable {background-color: white;}#sk-container-id-2 label.sk-toggleable__label {cursor: pointer;display: block;width: 100%;margin-bottom: 0;padding: 0.3em;box-sizing: border-box;text-align: center;}#sk-container-id-2 label.sk-toggleable__label-arrow:before {content: \"▸\";float: left;margin-right: 0.25em;color: #696969;}#sk-container-id-2 label.sk-toggleable__label-arrow:hover:before {color: black;}#sk-container-id-2 div.sk-estimator:hover label.sk-toggleable__label-arrow:before {color: black;}#sk-container-id-2 div.sk-toggleable__content {max-height: 0;max-width: 0;overflow: hidden;text-align: left;background-color: #f0f8ff;}#sk-container-id-2 div.sk-toggleable__content pre {margin: 0.2em;color: black;border-radius: 0.25em;background-color: #f0f8ff;}#sk-container-id-2 input.sk-toggleable__control:checked~div.sk-toggleable__content {max-height: 200px;max-width: 100%;overflow: auto;}#sk-container-id-2 input.sk-toggleable__control:checked~label.sk-toggleable__label-arrow:before {content: \"▾\";}#sk-container-id-2 div.sk-estimator input.sk-toggleable__control:checked~label.sk-toggleable__label {background-color: #d4ebff;}#sk-container-id-2 div.sk-label input.sk-toggleable__control:checked~label.sk-toggleable__label {background-color: #d4ebff;}#sk-container-id-2 input.sk-hidden--visually {border: 0;clip: rect(1px 1px 1px 1px);clip: rect(1px, 1px, 1px, 1px);height: 1px;margin: -1px;overflow: hidden;padding: 0;position: absolute;width: 1px;}#sk-container-id-2 div.sk-estimator {font-family: monospace;background-color: #f0f8ff;border: 1px dotted black;border-radius: 0.25em;box-sizing: border-box;margin-bottom: 0.5em;}#sk-container-id-2 div.sk-estimator:hover {background-color: #d4ebff;}#sk-container-id-2 div.sk-parallel-item::after {content: \"\";width: 100%;border-bottom: 1px solid gray;flex-grow: 1;}#sk-container-id-2 div.sk-label:hover label.sk-toggleable__label {background-color: #d4ebff;}#sk-container-id-2 div.sk-serial::before {content: \"\";position: absolute;border-left: 1px solid gray;box-sizing: border-box;top: 0;bottom: 0;left: 50%;z-index: 0;}#sk-container-id-2 div.sk-serial {display: flex;flex-direction: column;align-items: center;background-color: white;padding-right: 0.2em;padding-left: 0.2em;position: relative;}#sk-container-id-2 div.sk-item {position: relative;z-index: 1;}#sk-container-id-2 div.sk-parallel {display: flex;align-items: stretch;justify-content: center;background-color: white;position: relative;}#sk-container-id-2 div.sk-item::before, #sk-container-id-2 div.sk-parallel-item::before {content: \"\";position: absolute;border-left: 1px solid gray;box-sizing: border-box;top: 0;bottom: 0;left: 50%;z-index: -1;}#sk-container-id-2 div.sk-parallel-item {display: flex;flex-direction: column;z-index: 1;position: relative;background-color: white;}#sk-container-id-2 div.sk-parallel-item:first-child::after {align-self: flex-end;width: 50%;}#sk-container-id-2 div.sk-parallel-item:last-child::after {align-self: flex-start;width: 50%;}#sk-container-id-2 div.sk-parallel-item:only-child::after {width: 0;}#sk-container-id-2 div.sk-dashed-wrapped {border: 1px dashed gray;margin: 0 0.4em 0.5em 0.4em;box-sizing: border-box;padding-bottom: 0.4em;background-color: white;}#sk-container-id-2 div.sk-label label {font-family: monospace;font-weight: bold;display: inline-block;line-height: 1.2em;}#sk-container-id-2 div.sk-label-container {text-align: center;}#sk-container-id-2 div.sk-container {/* jupyter's `normalize.less` sets `[hidden] { display: none; }` but bootstrap.min.css set `[hidden] { display: none !important; }` so we also need the `!important` here to be able to override the default hidden behavior on the sphinx rendered scikit-learn.org. See: https://github.com/scikit-learn/scikit-learn/issues/21755 */display: inline-block !important;position: relative;}#sk-container-id-2 div.sk-text-repr-fallback {display: none;}</style><div id=\"sk-container-id-2\" class=\"sk-top-container\"><div class=\"sk-text-repr-fallback\"><pre>GridSearchCV(cv=10, estimator=RandomForestRegressor(), n_jobs=-1,\n",
       "             param_grid={&#x27;min_samples_split&#x27;: [3, 4, 6, 10],\n",
       "                         &#x27;n_estimators&#x27;: [100], &#x27;random_state&#x27;: [42]},\n",
       "             scoring=make_scorer(rmsle_score))</pre><b>In a Jupyter environment, please rerun this cell to show the HTML representation or trust the notebook. <br />On GitHub, the HTML representation is unable to render, please try loading this page with nbviewer.org.</b></div><div class=\"sk-container\" hidden><div class=\"sk-item sk-dashed-wrapped\"><div class=\"sk-label-container\"><div class=\"sk-label sk-toggleable\"><input class=\"sk-toggleable__control sk-hidden--visually\" id=\"sk-estimator-id-2\" type=\"checkbox\" ><label for=\"sk-estimator-id-2\" class=\"sk-toggleable__label sk-toggleable__label-arrow\">GridSearchCV</label><div class=\"sk-toggleable__content\"><pre>GridSearchCV(cv=10, estimator=RandomForestRegressor(), n_jobs=-1,\n",
       "             param_grid={&#x27;min_samples_split&#x27;: [3, 4, 6, 10],\n",
       "                         &#x27;n_estimators&#x27;: [100], &#x27;random_state&#x27;: [42]},\n",
       "             scoring=make_scorer(rmsle_score))</pre></div></div></div><div class=\"sk-parallel\"><div class=\"sk-parallel-item\"><div class=\"sk-item\"><div class=\"sk-label-container\"><div class=\"sk-label sk-toggleable\"><input class=\"sk-toggleable__control sk-hidden--visually\" id=\"sk-estimator-id-3\" type=\"checkbox\" ><label for=\"sk-estimator-id-3\" class=\"sk-toggleable__label sk-toggleable__label-arrow\">estimator: RandomForestRegressor</label><div class=\"sk-toggleable__content\"><pre>RandomForestRegressor()</pre></div></div></div><div class=\"sk-serial\"><div class=\"sk-item\"><div class=\"sk-estimator sk-toggleable\"><input class=\"sk-toggleable__control sk-hidden--visually\" id=\"sk-estimator-id-4\" type=\"checkbox\" ><label for=\"sk-estimator-id-4\" class=\"sk-toggleable__label sk-toggleable__label-arrow\">RandomForestRegressor</label><div class=\"sk-toggleable__content\"><pre>RandomForestRegressor()</pre></div></div></div></div></div></div></div></div></div></div>"
      ],
      "text/plain": [
       "GridSearchCV(cv=10, estimator=RandomForestRegressor(), n_jobs=-1,\n",
       "             param_grid={'min_samples_split': [3, 4, 6, 10],\n",
       "                         'n_estimators': [100], 'random_state': [42]},\n",
       "             scoring=make_scorer(rmsle_score))"
      ]
     },
     "execution_count": 22,
     "metadata": {},
     "output_type": "execute_result"
    }
   ],
   "source": [
    "from sklearn.pipeline import make_pipeline\n",
    "from sklearn.metrics import make_scorer\n",
    "RMSLE = make_scorer(rmsle_score)\n",
    "\n",
    "param_Rf =  {'min_samples_split' : [3,4,6,10], 'n_estimators' : [100], 'random_state': [42] }\n",
    "RF = GridSearchCV(RandomForestRegressor(), param_Rf, cv=10, scoring = RMSLE, n_jobs=-1)\n",
    "RF.fit(new_train_final, target1)"
   ]
  },
  {
   "cell_type": "code",
   "execution_count": 23,
   "id": "1f49fc86-52c5-4048-bcb6-39fe9a206b51",
   "metadata": {},
   "outputs": [
    {
     "name": "stdout",
     "output_type": "stream",
     "text": [
      "최적의 하이퍼파라미터: {'min_samples_split': 3, 'n_estimators': 100, 'random_state': 42}\n"
     ]
    }
   ],
   "source": [
    "print(\"최적의 하이퍼파라미터:\", RF.best_params_)"
   ]
  },
  {
   "cell_type": "code",
   "execution_count": 24,
   "id": "d5624415-6487-4595-83cd-3fcea1eef365",
   "metadata": {},
   "outputs": [
    {
     "data": {
      "text/plain": [
       "0.10383839061464407"
      ]
     },
     "execution_count": 24,
     "metadata": {},
     "output_type": "execute_result"
    }
   ],
   "source": [
    "RF_yhat = RF.predict(new_train_final)\n",
    "s_RF = rmsle_score(RF_yhat, target1)\n",
    "s_RF"
   ]
  },
  {
   "cell_type": "code",
   "execution_count": 25,
   "id": "33fb20da-65cd-48d6-907d-2df1bee0f917",
   "metadata": {},
   "outputs": [],
   "source": [
    "pred_rf1 = RF.predict(new_test_final)"
   ]
  },
  {
   "cell_type": "code",
   "execution_count": 26,
   "id": "31b79fef-5d6b-4886-8f93-7921a5255ebd",
   "metadata": {},
   "outputs": [
    {
     "data": {
      "text/html": [
       "<style>#sk-container-id-3 {color: black;}#sk-container-id-3 pre{padding: 0;}#sk-container-id-3 div.sk-toggleable {background-color: white;}#sk-container-id-3 label.sk-toggleable__label {cursor: pointer;display: block;width: 100%;margin-bottom: 0;padding: 0.3em;box-sizing: border-box;text-align: center;}#sk-container-id-3 label.sk-toggleable__label-arrow:before {content: \"▸\";float: left;margin-right: 0.25em;color: #696969;}#sk-container-id-3 label.sk-toggleable__label-arrow:hover:before {color: black;}#sk-container-id-3 div.sk-estimator:hover label.sk-toggleable__label-arrow:before {color: black;}#sk-container-id-3 div.sk-toggleable__content {max-height: 0;max-width: 0;overflow: hidden;text-align: left;background-color: #f0f8ff;}#sk-container-id-3 div.sk-toggleable__content pre {margin: 0.2em;color: black;border-radius: 0.25em;background-color: #f0f8ff;}#sk-container-id-3 input.sk-toggleable__control:checked~div.sk-toggleable__content {max-height: 200px;max-width: 100%;overflow: auto;}#sk-container-id-3 input.sk-toggleable__control:checked~label.sk-toggleable__label-arrow:before {content: \"▾\";}#sk-container-id-3 div.sk-estimator input.sk-toggleable__control:checked~label.sk-toggleable__label {background-color: #d4ebff;}#sk-container-id-3 div.sk-label input.sk-toggleable__control:checked~label.sk-toggleable__label {background-color: #d4ebff;}#sk-container-id-3 input.sk-hidden--visually {border: 0;clip: rect(1px 1px 1px 1px);clip: rect(1px, 1px, 1px, 1px);height: 1px;margin: -1px;overflow: hidden;padding: 0;position: absolute;width: 1px;}#sk-container-id-3 div.sk-estimator {font-family: monospace;background-color: #f0f8ff;border: 1px dotted black;border-radius: 0.25em;box-sizing: border-box;margin-bottom: 0.5em;}#sk-container-id-3 div.sk-estimator:hover {background-color: #d4ebff;}#sk-container-id-3 div.sk-parallel-item::after {content: \"\";width: 100%;border-bottom: 1px solid gray;flex-grow: 1;}#sk-container-id-3 div.sk-label:hover label.sk-toggleable__label {background-color: #d4ebff;}#sk-container-id-3 div.sk-serial::before {content: \"\";position: absolute;border-left: 1px solid gray;box-sizing: border-box;top: 0;bottom: 0;left: 50%;z-index: 0;}#sk-container-id-3 div.sk-serial {display: flex;flex-direction: column;align-items: center;background-color: white;padding-right: 0.2em;padding-left: 0.2em;position: relative;}#sk-container-id-3 div.sk-item {position: relative;z-index: 1;}#sk-container-id-3 div.sk-parallel {display: flex;align-items: stretch;justify-content: center;background-color: white;position: relative;}#sk-container-id-3 div.sk-item::before, #sk-container-id-3 div.sk-parallel-item::before {content: \"\";position: absolute;border-left: 1px solid gray;box-sizing: border-box;top: 0;bottom: 0;left: 50%;z-index: -1;}#sk-container-id-3 div.sk-parallel-item {display: flex;flex-direction: column;z-index: 1;position: relative;background-color: white;}#sk-container-id-3 div.sk-parallel-item:first-child::after {align-self: flex-end;width: 50%;}#sk-container-id-3 div.sk-parallel-item:last-child::after {align-self: flex-start;width: 50%;}#sk-container-id-3 div.sk-parallel-item:only-child::after {width: 0;}#sk-container-id-3 div.sk-dashed-wrapped {border: 1px dashed gray;margin: 0 0.4em 0.5em 0.4em;box-sizing: border-box;padding-bottom: 0.4em;background-color: white;}#sk-container-id-3 div.sk-label label {font-family: monospace;font-weight: bold;display: inline-block;line-height: 1.2em;}#sk-container-id-3 div.sk-label-container {text-align: center;}#sk-container-id-3 div.sk-container {/* jupyter's `normalize.less` sets `[hidden] { display: none; }` but bootstrap.min.css set `[hidden] { display: none !important; }` so we also need the `!important` here to be able to override the default hidden behavior on the sphinx rendered scikit-learn.org. See: https://github.com/scikit-learn/scikit-learn/issues/21755 */display: inline-block !important;position: relative;}#sk-container-id-3 div.sk-text-repr-fallback {display: none;}</style><div id=\"sk-container-id-3\" class=\"sk-top-container\"><div class=\"sk-text-repr-fallback\"><pre>GridSearchCV(cv=10, estimator=RandomForestRegressor(), n_jobs=-1,\n",
       "             param_grid={&#x27;min_samples_split&#x27;: [3, 4, 6, 10],\n",
       "                         &#x27;n_estimators&#x27;: [100], &#x27;random_state&#x27;: [42]},\n",
       "             scoring=make_scorer(rmsle_score))</pre><b>In a Jupyter environment, please rerun this cell to show the HTML representation or trust the notebook. <br />On GitHub, the HTML representation is unable to render, please try loading this page with nbviewer.org.</b></div><div class=\"sk-container\" hidden><div class=\"sk-item sk-dashed-wrapped\"><div class=\"sk-label-container\"><div class=\"sk-label sk-toggleable\"><input class=\"sk-toggleable__control sk-hidden--visually\" id=\"sk-estimator-id-5\" type=\"checkbox\" ><label for=\"sk-estimator-id-5\" class=\"sk-toggleable__label sk-toggleable__label-arrow\">GridSearchCV</label><div class=\"sk-toggleable__content\"><pre>GridSearchCV(cv=10, estimator=RandomForestRegressor(), n_jobs=-1,\n",
       "             param_grid={&#x27;min_samples_split&#x27;: [3, 4, 6, 10],\n",
       "                         &#x27;n_estimators&#x27;: [100], &#x27;random_state&#x27;: [42]},\n",
       "             scoring=make_scorer(rmsle_score))</pre></div></div></div><div class=\"sk-parallel\"><div class=\"sk-parallel-item\"><div class=\"sk-item\"><div class=\"sk-label-container\"><div class=\"sk-label sk-toggleable\"><input class=\"sk-toggleable__control sk-hidden--visually\" id=\"sk-estimator-id-6\" type=\"checkbox\" ><label for=\"sk-estimator-id-6\" class=\"sk-toggleable__label sk-toggleable__label-arrow\">estimator: RandomForestRegressor</label><div class=\"sk-toggleable__content\"><pre>RandomForestRegressor()</pre></div></div></div><div class=\"sk-serial\"><div class=\"sk-item\"><div class=\"sk-estimator sk-toggleable\"><input class=\"sk-toggleable__control sk-hidden--visually\" id=\"sk-estimator-id-7\" type=\"checkbox\" ><label for=\"sk-estimator-id-7\" class=\"sk-toggleable__label sk-toggleable__label-arrow\">RandomForestRegressor</label><div class=\"sk-toggleable__content\"><pre>RandomForestRegressor()</pre></div></div></div></div></div></div></div></div></div></div>"
      ],
      "text/plain": [
       "GridSearchCV(cv=10, estimator=RandomForestRegressor(), n_jobs=-1,\n",
       "             param_grid={'min_samples_split': [3, 4, 6, 10],\n",
       "                         'n_estimators': [100], 'random_state': [42]},\n",
       "             scoring=make_scorer(rmsle_score))"
      ]
     },
     "execution_count": 26,
     "metadata": {},
     "output_type": "execute_result"
    }
   ],
   "source": [
    "from sklearn.pipeline import make_pipeline\n",
    "from sklearn.metrics import make_scorer\n",
    "RMSLE = make_scorer(rmsle_score)\n",
    "\n",
    "param_Rf =  {'min_samples_split' : [3,4,6,10], 'n_estimators' : [100], 'random_state': [42] }\n",
    "RF = GridSearchCV(RandomForestRegressor(), param_Rf, cv=10, scoring = RMSLE, n_jobs=-1)\n",
    "RF.fit(new_train_final, target2)"
   ]
  },
  {
   "cell_type": "code",
   "execution_count": 27,
   "id": "a5bcc5bf-95c4-4e83-8a13-97e13f9677a3",
   "metadata": {},
   "outputs": [
    {
     "name": "stdout",
     "output_type": "stream",
     "text": [
      "최적의 하이퍼파라미터: {'min_samples_split': 10, 'n_estimators': 100, 'random_state': 42}\n"
     ]
    }
   ],
   "source": [
    "print(\"최적의 하이퍼파라미터:\", RF.best_params_)"
   ]
  },
  {
   "cell_type": "code",
   "execution_count": 28,
   "id": "614eff71-11f4-4c5d-a5f1-781a9ebdbb72",
   "metadata": {},
   "outputs": [
    {
     "data": {
      "text/plain": [
       "0.06409897429416722"
      ]
     },
     "execution_count": 28,
     "metadata": {},
     "output_type": "execute_result"
    }
   ],
   "source": [
    "RF_yhat = RF.predict(new_train_final)\n",
    "s_RF = rmsle_score(RF_yhat, target2)\n",
    "s_RF"
   ]
  },
  {
   "cell_type": "code",
   "execution_count": 29,
   "id": "ba895050-5bfa-4a34-89db-931071748546",
   "metadata": {},
   "outputs": [],
   "source": [
    "pred_rf2 = RF.predict(new_test_final)"
   ]
  },
  {
   "cell_type": "code",
   "execution_count": 32,
   "id": "b0bc69fb-6ddd-4dac-9d0f-9a3c27d7d910",
   "metadata": {},
   "outputs": [],
   "source": [
    "sub = pd.DataFrame()\n",
    "sub['datetime'] = test['datetime']\n",
    "sub['count'] = np.exp(pred_rf1) + np.exp(pred_rf2)- 2\n",
    "\n",
    "sub.to_csv('submission1.csv', index=False)"
   ]
  },
  {
   "cell_type": "code",
   "execution_count": null,
   "id": "9073afe7-4704-4b78-8579-c185333f7391",
   "metadata": {},
   "outputs": [],
   "source": []
  }
 ],
 "metadata": {
  "kernelspec": {
   "display_name": "Python 3 (ipykernel)",
   "language": "python",
   "name": "python3"
  },
  "language_info": {
   "codemirror_mode": {
    "name": "ipython",
    "version": 3
   },
   "file_extension": ".py",
   "mimetype": "text/x-python",
   "name": "python",
   "nbconvert_exporter": "python",
   "pygments_lexer": "ipython3",
   "version": "3.10.13"
  }
 },
 "nbformat": 4,
 "nbformat_minor": 5
}
