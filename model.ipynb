{
 "cells": [
  {
   "cell_type": "code",
   "execution_count": 1,
   "id": "847da3fe-8329-4de3-a080-9e0a960ca672",
   "metadata": {},
   "outputs": [],
   "source": [
    "import numpy as np\n",
    "import pandas as pd\n",
    "from datetime import datetime\n",
    "import calendar\n",
    "from sklearn.linear_model import LinearRegression\n",
    "from sklearn.ensemble import RandomForestRegressor\n",
    "from sklearn.decomposition import PCA"
   ]
  },
  {
   "cell_type": "code",
   "execution_count": 2,
   "id": "20806076-bb2c-4124-b5c1-02aaf1a9f55d",
   "metadata": {},
   "outputs": [],
   "source": [
    "train = pd.read_csv(\"data/train.csv\")\n",
    "test = pd.read_csv(\"data/test.csv\")\n",
    "train = train[train['weather'] != 4]\n",
    "y1 = train[\"casual\"]\n",
    "y2 = train[\"registered\"]\n",
    "all_data = pd.concat([train, test], ignore_index=True)\n",
    "all_data['tempDate'] = pd.to_datetime(all_data['datetime'])\n",
    "all_data['hour'] = all_data['tempDate'].dt.hour\n",
    "all_data['dayofweek'] = all_data['tempDate'].dt.dayofweek\n",
    "all_data['year'] = all_data['tempDate'].dt.year\n",
    "all_data = all_data.drop('tempDate', axis=1)\n",
    "dropFeatures = ['datetime', 'casual', 'registered']\n",
    "all_data = all_data.drop(dropFeatures, axis=1)"
   ]
  },
  {
   "cell_type": "code",
   "execution_count": 3,
   "id": "f2047863-636e-4ab3-89e3-e9eb1426d53a",
   "metadata": {},
   "outputs": [],
   "source": [
    "def predict_atemp(data):\n",
    "    condition = (data.atemp < 20) & (data.temp > 20) # condition of wrong values\n",
    "    data_correct_train = data[~condition]\n",
    "\n",
    "    lin_reg = LinearRegression()\n",
    "    lin_reg.fit(data_correct_train[[\"temp\"]], data_correct_train[[\"atemp\"]])\n",
    "    \n",
    "    predict_atemp = lin_reg.predict(data.loc[condition, ['temp']])\n",
    "    \n",
    "    data.loc[condition, ['atemp']] = predict_atemp\n",
    "\n",
    "    return data\n",
    "all_data = predict_atemp(all_data)"
   ]
  },
  {
   "cell_type": "code",
   "execution_count": 4,
   "id": "3270d95b-9598-4b84-bf85-a3ba1f5e5654",
   "metadata": {},
   "outputs": [],
   "source": [
    "pca=PCA(n_components=1)\n",
    "pca.fit(all_data[['temp', 'atemp']])\n",
    "all_data['pca'] = pca.transform(all_data[['temp','atemp']])\n",
    "all_data = all_data.drop(columns=['temp', 'atemp'], axis=1)"
   ]
  },
  {
   "cell_type": "code",
   "execution_count": 5,
   "id": "10169a46-afe5-46e6-b400-efdcd07da44a",
   "metadata": {},
   "outputs": [],
   "source": [
    "def predict_windspeed(data):\n",
    "    condition = data['windspeed'] == 0\n",
    "    dataWindNot0_train = data.loc[~condition]\n",
    "\n",
    "    windColumns = [\"weather\", \"humidity\", \"pca\"]\n",
    "\n",
    "    rf_reg = RandomForestRegressor(random_state=42)\n",
    "    rf_reg.fit(dataWindNot0_train[windColumns], dataWindNot0_train[\"windspeed\"])\n",
    "    \n",
    "    predictWind0 = rf_reg.predict(data.loc[condition, windColumns])\n",
    "    \n",
    "    data.loc[condition, ['windspeed']] = predictWind0\n",
    "    \n",
    "    return data\n",
    "all_data = predict_windspeed(all_data)"
   ]
  },
  {
   "cell_type": "code",
   "execution_count": 6,
   "id": "968428c4-e340-4ce0-b37e-56dee068fb23",
   "metadata": {},
   "outputs": [
    {
     "name": "stderr",
     "output_type": "stream",
     "text": [
      "C:\\Users\\cch\\AppData\\Local\\Temp\\ipykernel_20768\\1829391106.py:12: FutureWarning: Setting an item of incompatible dtype is deprecated and will raise in a future error of pandas. Value '[78.50252381 78.50252381 78.50252381 78.00401094 84.61271032 79.07896098\n",
      " 76.016      75.15162356 78.87451984 83.12587662 79.71980952 79.71980952\n",
      " 92.57260714 93.4022476  86.3522286  56.69366667 88.27       88.3\n",
      " 84.61271032 81.34416331 68.72489669 93.24669444]' has dtype incompatible with int64, please explicitly cast to a compatible dtype first.\n",
      "  data.loc[condition, 'humidity'] = predictHum0\n"
     ]
    }
   ],
   "source": [
    "def predict_humidity(data):\n",
    "    condition = data['humidity'] == 0\n",
    "    dataHumNot0_train = data[~condition]\n",
    "\n",
    "    humidityColumns = ['weather', 'windspeed', 'pca']\n",
    "\n",
    "    rf_reg = RandomForestRegressor(random_state = 42)\n",
    "    rf_reg.fit(dataHumNot0_train[humidityColumns], dataHumNot0_train['humidity'])\n",
    "\n",
    "    predictHum0 = rf_reg.predict(data.loc[condition, humidityColumns])\n",
    "    \n",
    "    data.loc[condition, 'humidity'] = predictHum0\n",
    "\n",
    "    return data\n",
    "all_data = predict_humidity(all_data)"
   ]
  },
  {
   "cell_type": "code",
   "execution_count": 7,
   "id": "b058c2dc-52d2-4aa3-82b1-f2011f0bf904",
   "metadata": {},
   "outputs": [],
   "source": [
    "all_data = pd.get_dummies(all_data, columns = ['season', 'weather'])\n",
    "X_train = all_data[pd.notnull(all_data['count'])]\n",
    "X_test = all_data[~pd.notnull(all_data['count'])]\n",
    "X_train = X_train.drop(['count'], axis=1)\n",
    "X_test = X_test.drop(['count'], axis=1)\n",
    "y1 = np.log(y1+1)\n",
    "y2 = np.log(y2+1)"
   ]
  },
  {
   "cell_type": "code",
   "execution_count": 8,
   "id": "19f39e62-cdd6-48be-b2d6-5c975d1549cd",
   "metadata": {},
   "outputs": [],
   "source": [
    "# rmsle\n",
    "def rmsle_score(preds, true):\n",
    "    rmsle_score = (np.sum((np.log1p(preds)-np.log1p(true))**2)/len(true))**0.5\n",
    "    return rmsle_score"
   ]
  },
  {
   "cell_type": "code",
   "execution_count": 9,
   "id": "1f044f6f-34e5-43c3-a8ec-5a34df22a0b1",
   "metadata": {},
   "outputs": [],
   "source": [
    "from sklearn.metrics import make_scorer\n",
    "RMSLE = make_scorer(rmsle_score)"
   ]
  },
  {
   "cell_type": "code",
   "execution_count": 10,
   "id": "466b7b40-3e89-4856-8757-a4cab098ca2d",
   "metadata": {},
   "outputs": [],
   "source": [
    "# X_train, X_test, y1, y2"
   ]
  },
  {
   "cell_type": "code",
   "execution_count": 11,
   "id": "1584f370-2742-4525-ac67-93e099903a14",
   "metadata": {},
   "outputs": [],
   "source": [
    "from sklearn.model_selection import GridSearchCV\n",
    "param_Rf =  {'min_samples_split' : [3,4,6,10], 'n_estimators' : [100], 'random_state': [42] }\n",
    "\n",
    "rf_reg1 = GridSearchCV(RandomForestRegressor(), param_Rf, cv=10, scoring = RMSLE, n_jobs = -1)\n",
    "rf_reg1.fit(X_train, y1)\n",
    "\n",
    "pred_rf1 = rf_reg1.predict(X_test)"
   ]
  },
  {
   "cell_type": "code",
   "execution_count": 12,
   "id": "249e185e-29a0-4a16-b108-b5c59fe5a1e9",
   "metadata": {},
   "outputs": [],
   "source": [
    "rf_reg2 = GridSearchCV(RandomForestRegressor(), param_Rf, cv=10, scoring = RMSLE, n_jobs = -1)\n",
    "rf_reg2.fit(X_train, y2)\n",
    "\n",
    "pred_rf2 = rf_reg2.predict(X_test)"
   ]
  },
  {
   "cell_type": "code",
   "execution_count": 13,
   "id": "1480851b-f53a-4972-89f7-55e276d5d497",
   "metadata": {},
   "outputs": [],
   "source": [
    "sub = pd.DataFrame()\n",
    "sub['datetime'] = test['datetime']\n",
    "sub['count'] = np.exp(pred_rf1) + np.exp(pred_rf2) - 2\n",
    "\n",
    "sub.to_csv('submission1.csv', index=False) # 0.384"
   ]
  },
  {
   "cell_type": "code",
   "execution_count": 14,
   "id": "05c2d008-acfa-4e92-a18b-6fe6920d160b",
   "metadata": {},
   "outputs": [],
   "source": [
    "from sklearn.linear_model import LinearRegression,Ridge,Lasso"
   ]
  },
  {
   "cell_type": "code",
   "execution_count": 15,
   "id": "cc7c5612-afdf-49a0-85ad-209bf20f3be9",
   "metadata": {},
   "outputs": [],
   "source": [
    "lin_reg1 = LinearRegression()\n",
    "lin_reg1.fit(X_train, y1)\n",
    "preds_lin1 = lin_reg1.predict(X_test)"
   ]
  },
  {
   "cell_type": "code",
   "execution_count": 16,
   "id": "b1787b11-efa7-4c38-8476-13e3cce9f1d2",
   "metadata": {},
   "outputs": [],
   "source": [
    "lin_reg2 = LinearRegression()\n",
    "lin_reg2.fit(X_train, y2)\n",
    "preds_lin2 = lin_reg2.predict(X_test)"
   ]
  },
  {
   "cell_type": "code",
   "execution_count": 17,
   "id": "87e48026-5cd1-42e7-8e54-e89181ae3bb1",
   "metadata": {},
   "outputs": [],
   "source": [
    "sub = pd.DataFrame()\n",
    "sub['datetime'] = test['datetime']\n",
    "sub['count'] = np.exp(preds_lin1) + np.exp(preds_lin2) - 2\n",
    "sub.to_csv('submission2.csv', index=False) # 1.0003"
   ]
  },
  {
   "cell_type": "code",
   "execution_count": 18,
   "id": "31039951-1937-4bb7-922d-8574cb1f0e04",
   "metadata": {},
   "outputs": [],
   "source": [
    "alpha = np.array([0.1, 1, 2, 3, 4, 10, 30, 100, 200, 300, 400, 800, 900, 1000])\n",
    "\n",
    "ridge_params_ = {'max_iter':[3000], 'alpha':alpha}\n",
    "\n",
    "ridge_reg1 = GridSearchCV(Ridge(), ridge_params_, scoring = RMSLE, cv=10)\n",
    "ridge_reg1.fit(X_train, y1)\n",
    "\n",
    "preds_ridge1 = ridge_reg1.predict(X = X_test)"
   ]
  },
  {
   "cell_type": "code",
   "execution_count": 19,
   "id": "dd0bd50a-aa4b-488e-acb5-da0de923136a",
   "metadata": {},
   "outputs": [],
   "source": [
    "ridge_reg2 = GridSearchCV(Ridge(), ridge_params_, scoring = RMSLE, cv=10)\n",
    "ridge_reg2.fit(X_train, y2)\n",
    "\n",
    "preds_ridge2 = ridge_reg2.predict(X = X_test)"
   ]
  },
  {
   "cell_type": "code",
   "execution_count": 20,
   "id": "81a9fb80-3d68-4aef-b57a-823f918d575d",
   "metadata": {},
   "outputs": [],
   "source": [
    "sub = pd.DataFrame()\n",
    "sub['datetime'] = test['datetime']\n",
    "sub['count'] = np.exp(preds_ridge1) + np.exp(preds_ridge2) - 2\n",
    "sub.to_csv('submission3.csv', index=False) # 1.00203"
   ]
  },
  {
   "cell_type": "code",
   "execution_count": 21,
   "id": "f3c71e86-8589-45aa-9f59-63f2b94b0d19",
   "metadata": {},
   "outputs": [],
   "source": [
    "lasso_params_ = {'max_iter':[3000], 'alpha':1/alpha}\n",
    "\n",
    "lasso_reg1 = GridSearchCV(Lasso(), lasso_params_, scoring = RMSLE, cv=10)\n",
    "lasso_reg1.fit(X_train, y1)\n",
    "\n",
    "preds_lasso1 = lasso_reg1.predict(X = X_test)"
   ]
  },
  {
   "cell_type": "code",
   "execution_count": 22,
   "id": "231b400c-11c1-450e-82ec-096a7a4c8523",
   "metadata": {},
   "outputs": [],
   "source": [
    "lasso_reg2 = GridSearchCV(Lasso(), lasso_params_, scoring = RMSLE, cv=10)\n",
    "lasso_reg2.fit(X_train, y2)\n",
    "\n",
    "preds_lasso2 = lasso_reg2.predict(X = X_test)"
   ]
  },
  {
   "cell_type": "code",
   "execution_count": 23,
   "id": "1d458b77-c68b-42b7-b38b-f9d68b1bf70b",
   "metadata": {},
   "outputs": [],
   "source": [
    "sub = pd.DataFrame()\n",
    "sub['datetime'] = test['datetime']\n",
    "sub['count'] = np.exp(preds_lasso1) + np.exp(preds_lasso2) - 2\n",
    "sub.to_csv('submission4.csv', index=False) # 1.41242"
   ]
  }
 ],
 "metadata": {
  "kernelspec": {
   "display_name": "Python 3 (ipykernel)",
   "language": "python",
   "name": "python3"
  },
  "language_info": {
   "codemirror_mode": {
    "name": "ipython",
    "version": 3
   },
   "file_extension": ".py",
   "mimetype": "text/x-python",
   "name": "python",
   "nbconvert_exporter": "python",
   "pygments_lexer": "ipython3",
   "version": "3.10.13"
  }
 },
 "nbformat": 4,
 "nbformat_minor": 5
}
